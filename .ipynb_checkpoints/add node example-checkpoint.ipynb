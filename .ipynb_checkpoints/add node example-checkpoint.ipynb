{
 "cells": [
  {
   "cell_type": "code",
   "execution_count": 1,
   "metadata": {
    "scrolled": true
   },
   "outputs": [],
   "source": [
    "import warnings\n",
    "warnings.filterwarnings(action='ignore')"
   ]
  },
  {
   "cell_type": "code",
   "execution_count": 2,
   "metadata": {},
   "outputs": [],
   "source": [
    "import tensorflow as tf"
   ]
  },
  {
   "cell_type": "code",
   "execution_count": 3,
   "metadata": {},
   "outputs": [],
   "source": [
    "# 노드를 constant함수를 이용하여 변수에 넣어준다.\n",
    "# tensorflow에서 데이터 형식을 변형할 때는 tensorflow만의 형식을 써야한다.\n",
    "# tf.float32, tf.float64 등등\n",
    "node1 = tf.constant(3.0, tf.float32)\n",
    "node2 = tf.constant(4.0)"
   ]
  },
  {
   "cell_type": "code",
   "execution_count": 4,
   "metadata": {
    "scrolled": true
   },
   "outputs": [],
   "source": [
    "# add를 이용하여 각 노드의 계산을 해준다.\n",
    "node3 = tf.add(node1, node2)"
   ]
  },
  {
   "cell_type": "code",
   "execution_count": 5,
   "metadata": {},
   "outputs": [
    {
     "name": "stdout",
     "output_type": "stream",
     "text": [
      "node1 :  Tensor(\"Const:0\", shape=(), dtype=float32) node2 :  Tensor(\"Const_1:0\", shape=(), dtype=float32)\n",
      "node3 :  Tensor(\"Add:0\", shape=(), dtype=float32)\n"
     ]
    }
   ],
   "source": [
    "# 노드를 출력했을 때 tensorflow만의 형식으로 저장되어있기 때문에\n",
    "# 아래와 같은 결과가 나오게 된다.\n",
    "print(\"node1 : \", node1, \"node2 : \", node2)\n",
    "print(\"node3 : \", node3)"
   ]
  },
  {
   "cell_type": "code",
   "execution_count": 6,
   "metadata": {},
   "outputs": [],
   "source": [
    "# tensorflow만의 형식으로 저장된 변수를 그래프로 표현한다.\n",
    "sess = tf.Session()"
   ]
  },
  {
   "cell_type": "code",
   "execution_count": 7,
   "metadata": {},
   "outputs": [
    {
     "name": "stdout",
     "output_type": "stream",
     "text": [
      "node1 :  3.0 node2 :  4.0\n",
      "node3 :  7.0\n"
     ]
    }
   ],
   "source": [
    "# session을 실행시켜준 노드들의 값을 확인할 수 있다.\n",
    "print(\"node1 : \", sess.run(node1), \"node2 : \", sess.run(node2))\n",
    "print(\"node3 : \", sess.run(node3))"
   ]
  }
 ],
 "metadata": {
  "kernelspec": {
   "display_name": "Python 3",
   "language": "python",
   "name": "python3"
  },
  "language_info": {
   "codemirror_mode": {
    "name": "ipython",
    "version": 3
   },
   "file_extension": ".py",
   "mimetype": "text/x-python",
   "name": "python",
   "nbconvert_exporter": "python",
   "pygments_lexer": "ipython3",
   "version": "3.7.6"
  }
 },
 "nbformat": 4,
 "nbformat_minor": 4
}
