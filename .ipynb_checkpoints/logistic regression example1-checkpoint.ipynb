{
 "cells": [
  {
   "cell_type": "code",
   "execution_count": 1,
   "metadata": {},
   "outputs": [],
   "source": [
    "import warnings\n",
    "warnings.filterwarnings(action='ignore')"
   ]
  },
  {
   "cell_type": "code",
   "execution_count": 2,
   "metadata": {},
   "outputs": [],
   "source": [
    "import tensorflow as tf"
   ]
  },
  {
   "cell_type": "code",
   "execution_count": 3,
   "metadata": {},
   "outputs": [],
   "source": [
    "x_data = [[1, 2], [2, 3], [3, 1], [4, 3], [5, 3], [6, 2]]\n",
    "y_data = [[0], [0], [0], [1], [1], [1]]"
   ]
  },
  {
   "cell_type": "code",
   "execution_count": 4,
   "metadata": {},
   "outputs": [],
   "source": [
    "x = tf.placeholder(tf.float32, shape = [None, 2])\n",
    "y = tf.placeholder(tf.float32, shape = [None, 1])\n",
    "w = tf.Variable(tf.random_normal([2, 1]), name = 'w')\n",
    "b = tf.Variable(tf.random_normal([1]), name = 'b')"
   ]
  },
  {
   "cell_type": "code",
   "execution_count": 5,
   "metadata": {},
   "outputs": [],
   "source": [
    "hypothesis = tf.sigmoid(tf.matmul(x, w) + b)"
   ]
  },
  {
   "cell_type": "code",
   "execution_count": 6,
   "metadata": {},
   "outputs": [],
   "source": [
    "cost = -tf.reduce_mean(y*tf.log(hypothesis) + (1-y)*tf.log(1-hypothesis))"
   ]
  },
  {
   "cell_type": "code",
   "execution_count": 7,
   "metadata": {},
   "outputs": [],
   "source": [
    "train = tf.train.GradientDescentOptimizer(learning_rate = 0.01).minimize(cost)"
   ]
  },
  {
   "cell_type": "code",
   "execution_count": 8,
   "metadata": {},
   "outputs": [],
   "source": [
    "predicted = tf.cast(hypothesis > 0.5, dtype = tf.float32)"
   ]
  },
  {
   "cell_type": "code",
   "execution_count": 9,
   "metadata": {},
   "outputs": [],
   "source": [
    "accuracy = tf.reduce_mean(tf.cast(tf.equal(predicted, y), dtype = tf.float32))"
   ]
  },
  {
   "cell_type": "code",
   "execution_count": 10,
   "metadata": {},
   "outputs": [],
   "source": [
    "sess = tf.Session()"
   ]
  },
  {
   "cell_type": "code",
   "execution_count": 11,
   "metadata": {},
   "outputs": [],
   "source": [
    "sess.run(tf.global_variables_initializer())"
   ]
  },
  {
   "cell_type": "code",
   "execution_count": 12,
   "metadata": {},
   "outputs": [
    {
     "name": "stdout",
     "output_type": "stream",
     "text": [
      "0 0.889612\n",
      "200 0.48299572\n",
      "400 0.44848225\n",
      "600 0.4253277\n",
      "800 0.4073665\n",
      "1000 0.39213195\n",
      "1200 0.37853232\n",
      "1400 0.36604276\n",
      "1600 0.3543916\n",
      "1800 0.3434275\n",
      "2000 0.3330587\n",
      "2200 0.32322466\n",
      "2400 0.31388095\n",
      "2600 0.3049931\n",
      "2800 0.2965315\n",
      "3000 0.28847015\n",
      "3200 0.28078544\n",
      "3400 0.27345577\n",
      "3600 0.26646066\n",
      "3800 0.2597811\n",
      "4000 0.25339916\n",
      "4200 0.24729808\n",
      "4400 0.24146198\n",
      "4600 0.23587598\n",
      "4800 0.23052622\n",
      "5000 0.22539957\n",
      "5200 0.22048372\n",
      "5400 0.21576707\n",
      "5600 0.21123897\n",
      "5800 0.20688911\n",
      "6000 0.20270813\n",
      "6200 0.19868708\n",
      "6400 0.1948175\n",
      "6600 0.19109173\n",
      "6800 0.18750222\n",
      "7000 0.1840422\n",
      "7200 0.18070509\n",
      "7400 0.17748477\n",
      "7600 0.1743757\n",
      "7800 0.17137234\n",
      "8000 0.16846968\n",
      "8200 0.16566288\n",
      "8400 0.16294752\n",
      "8600 0.16031936\n",
      "8800 0.15777442\n",
      "9000 0.15530898\n",
      "9200 0.15291943\n",
      "9400 0.15060239\n",
      "9600 0.1483548\n",
      "9800 0.14617367\n",
      "10000 0.1440561\n"
     ]
    }
   ],
   "source": [
    "for step in range(10001):\n",
    "    cost_val, _ = sess.run([cost, train], feed_dict={x:x_data, y:y_data})\n",
    "    if step % 200 == 0:\n",
    "        print(step, cost_val)"
   ]
  },
  {
   "cell_type": "code",
   "execution_count": 13,
   "metadata": {},
   "outputs": [],
   "source": [
    "h, c, a = sess.run([hypothesis, predicted, accuracy], feed_dict = {x:x_data, y:y_data})"
   ]
  },
  {
   "cell_type": "code",
   "execution_count": 14,
   "metadata": {
    "scrolled": true
   },
   "outputs": [
    {
     "name": "stdout",
     "output_type": "stream",
     "text": [
      "hypothesis :  [[0.02848563]\n",
      " [0.15567395]\n",
      " [0.2938909 ]\n",
      " [0.78644174]\n",
      " [0.9427191 ]\n",
      " [0.9812292 ]] \n",
      "predict :  [[0.]\n",
      " [0.]\n",
      " [0.]\n",
      " [1.]\n",
      " [1.]\n",
      " [1.]] \n",
      "accuracy :  1.0\n"
     ]
    }
   ],
   "source": [
    "print('hypothesis : ', h, '\\npredict : ', c, '\\naccuracy : ', a)"
   ]
  }
 ],
 "metadata": {
  "kernelspec": {
   "display_name": "Python 3",
   "language": "python",
   "name": "python3"
  },
  "language_info": {
   "codemirror_mode": {
    "name": "ipython",
    "version": 3
   },
   "file_extension": ".py",
   "mimetype": "text/x-python",
   "name": "python",
   "nbconvert_exporter": "python",
   "pygments_lexer": "ipython3",
   "version": "3.7.6"
  }
 },
 "nbformat": 4,
 "nbformat_minor": 4
}
