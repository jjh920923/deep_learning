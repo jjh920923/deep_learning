{
 "cells": [
  {
   "cell_type": "code",
   "execution_count": 1,
   "metadata": {},
   "outputs": [],
   "source": [
    "import warnings\n",
    "warnings.filterwarnings(action='ignore')"
   ]
  },
  {
   "cell_type": "code",
   "execution_count": 2,
   "metadata": {},
   "outputs": [],
   "source": [
    "import numpy as np\n",
    "import tensorflow as tf"
   ]
  },
  {
   "cell_type": "code",
   "execution_count": 3,
   "metadata": {},
   "outputs": [],
   "source": [
    "x_data = [[1, 2, 1, 1], [2, 1, 3, 2], [3, 1, 3, 4], [4, 1, 5, 5], [1, 7, 5, 5], [1, 2, 5, 6], [1, 6, 6, 6], [1, 7, 7, 7]]\n",
    "y_data = [[0, 0, 1], [0, 0, 1], [0, 0, 1], [0, 1, 0], [0, 1, 0], [0, 1, 0], [1, 0, 0], [1, 0, 0]]"
   ]
  },
  {
   "cell_type": "code",
   "execution_count": 4,
   "metadata": {},
   "outputs": [],
   "source": [
    "x = tf.placeholder(tf.float32, [None, 4])\n",
    "y = tf.placeholder(tf.float32, [None, 3])\n",
    "w = tf.Variable(tf.random_normal([4, 3]), name = 'w')\n",
    "b = tf.Variable(tf.random_normal([3]), name = 'b')"
   ]
  },
  {
   "cell_type": "code",
   "execution_count": 5,
   "metadata": {},
   "outputs": [],
   "source": [
    "hypothesis = tf.nn.softmax(tf.matmul(x, w) + b)"
   ]
  },
  {
   "cell_type": "code",
   "execution_count": 6,
   "metadata": {},
   "outputs": [],
   "source": [
    "cost = tf.reduce_mean(-tf.reduce_sum(y*tf.log(hypothesis), axis = 1))"
   ]
  },
  {
   "cell_type": "code",
   "execution_count": 7,
   "metadata": {},
   "outputs": [],
   "source": [
    "optimizer = tf.train.GradientDescentOptimizer(learning_rate = 0.1).minimize(cost)"
   ]
  },
  {
   "cell_type": "code",
   "execution_count": 8,
   "metadata": {},
   "outputs": [],
   "source": [
    "sess = tf.Session()"
   ]
  },
  {
   "cell_type": "code",
   "execution_count": 9,
   "metadata": {},
   "outputs": [],
   "source": [
    "sess.run(tf.global_variables_initializer())"
   ]
  },
  {
   "cell_type": "code",
   "execution_count": 18,
   "metadata": {
    "scrolled": true
   },
   "outputs": [
    {
     "name": "stdout",
     "output_type": "stream",
     "text": [
      "0 0.04027382\n",
      "100 0.039889324\n",
      "200 0.039512053\n",
      "300 0.039141692\n",
      "400 0.03877818\n",
      "500 0.038421266\n",
      "600 0.038070813\n",
      "700 0.037726585\n",
      "800 0.03738848\n",
      "900 0.037056316\n",
      "1000 0.036729954\n",
      "1100 0.036409184\n",
      "1200 0.03609396\n",
      "1300 0.035784036\n",
      "1400 0.03547936\n",
      "1500 0.035179775\n",
      "1600 0.034885116\n",
      "1700 0.034595355\n",
      "1800 0.034310292\n",
      "1900 0.03402985\n",
      "2000 0.033753943\n",
      "[[1.7273620e-11 3.1960365e-06 9.9999678e-01]\n",
      " [1.2346919e-04 1.6348168e-02 9.8352838e-01]\n",
      " [2.9540901e-14 3.5407718e-02 9.6459234e-01]\n",
      " [3.1758041e-10 9.6829522e-01 3.1704698e-02]\n",
      " [6.2083475e-02 9.3551910e-01 2.3974169e-03]\n",
      " [3.2969788e-02 9.6703023e-01 1.8283714e-08]\n",
      " [9.2378104e-01 7.6218911e-02 3.0075967e-08]\n",
      " [9.9432409e-01 5.6758784e-03 1.3475085e-11]] [2 2 2 1 1 1 0 0]\n"
     ]
    }
   ],
   "source": [
    "for step in range(2001):\n",
    "    sess.run(optimizer, feed_dict = {x:x_data, y:y_data})\n",
    "    if step % 100 == 0:\n",
    "        print(step, sess.run(cost, feed_dict = {x:x_data, y:y_data}))\n",
    "a = sess.run(hypothesis, feed_dict={x:x_data, y:y_data})\n",
    "print(a, sess.run(tf.arg_max(a, 1)))"
   ]
  },
  {
   "cell_type": "code",
   "execution_count": 11,
   "metadata": {},
   "outputs": [],
   "source": [
    "pred_w = sess.run(w, feed_dict = {x:x_data, y:y_data})\n",
    "pred_b = sess.run(b, feed_dict = {x:x_data, y:y_data})"
   ]
  },
  {
   "cell_type": "code",
   "execution_count": 20,
   "metadata": {},
   "outputs": [
    {
     "data": {
      "text/plain": [
       "array([-3.427781 , -1.0695078,  4.6468153], dtype=float32)"
      ]
     },
     "execution_count": 20,
     "metadata": {},
     "output_type": "execute_result"
    }
   ],
   "source": [
    "pred_b"
   ]
  },
  {
   "cell_type": "code",
   "execution_count": null,
   "metadata": {},
   "outputs": [],
   "source": []
  }
 ],
 "metadata": {
  "kernelspec": {
   "display_name": "Python 3",
   "language": "python",
   "name": "python3"
  },
  "language_info": {
   "codemirror_mode": {
    "name": "ipython",
    "version": 3
   },
   "file_extension": ".py",
   "mimetype": "text/x-python",
   "name": "python",
   "nbconvert_exporter": "python",
   "pygments_lexer": "ipython3",
   "version": "3.7.6"
  }
 },
 "nbformat": 4,
 "nbformat_minor": 4
}
