{
 "cells": [
  {
   "cell_type": "code",
   "execution_count": 1,
   "metadata": {},
   "outputs": [],
   "source": [
    "import warnings\n",
    "warnings.filterwarnings(action='ignore')"
   ]
  },
  {
   "cell_type": "code",
   "execution_count": 2,
   "metadata": {},
   "outputs": [],
   "source": [
    "import tensorflow as tf"
   ]
  },
  {
   "cell_type": "code",
   "execution_count": 3,
   "metadata": {},
   "outputs": [],
   "source": [
    "x_data = [2.7, 4.8, 9.3, 13.4, 24.8, 31.3, 48.5, 53.0, 68.1, 74.2, 88.6, 94.5]\n",
    "y_data = [7.0, 28.8, 22.8, 67.1, 48.8, 100.2, 140.0, 192.2, 215.2, 285.6, 260.3, 251.1]"
   ]
  },
  {
   "cell_type": "code",
   "execution_count": 4,
   "metadata": {},
   "outputs": [],
   "source": [
    "w = tf.Variable(tf.random_uniform([1], -1.0, 1.0), name = 'w')\n",
    "b = tf.Variable(tf.random_uniform([1], -1.0, 1.0), name = 'b')"
   ]
  },
  {
   "cell_type": "code",
   "execution_count": 5,
   "metadata": {},
   "outputs": [],
   "source": [
    "x = tf.placeholder(tf.float32)\n",
    "y = tf.placeholder(tf.float32)"
   ]
  },
  {
   "cell_type": "code",
   "execution_count": 6,
   "metadata": {},
   "outputs": [],
   "source": [
    "# y_pred = tf.add(tf.mutiply(weight, x), b)\n",
    "y_pred = w*x + b"
   ]
  },
  {
   "cell_type": "code",
   "execution_count": 7,
   "metadata": {},
   "outputs": [],
   "source": [
    "cost = tf.reduce_mean(tf.square(y_pred - y))"
   ]
  },
  {
   "cell_type": "code",
   "execution_count": 8,
   "metadata": {},
   "outputs": [],
   "source": [
    "optimizer = tf.train.AdamOptimizer(learning_rate = 0.01).minimize(cost)"
   ]
  },
  {
   "cell_type": "code",
   "execution_count": 9,
   "metadata": {},
   "outputs": [],
   "source": [
    "init = tf.global_variables_initializer()"
   ]
  },
  {
   "cell_type": "code",
   "execution_count": 10,
   "metadata": {},
   "outputs": [],
   "source": [
    "sess = tf.Session()"
   ]
  },
  {
   "cell_type": "code",
   "execution_count": 11,
   "metadata": {},
   "outputs": [],
   "source": [
    "sess.run(init)"
   ]
  },
  {
   "cell_type": "code",
   "execution_count": 12,
   "metadata": {},
   "outputs": [
    {
     "name": "stdout",
     "output_type": "stream",
     "text": [
      "Epoch : 0, cost : 36300.01953125, weight : [-0.4474635], bias : [0.3707695]\n",
      "Epoch : 50, cost : 26985.447265625, weight : [0.04296377], bias : [0.8612703]\n",
      "Epoch : 100, cost : 19589.322265625, weight : [0.4984391], bias : [1.3171118]\n",
      "Epoch : 150, cost : 13910.0673828125, weight : [0.9131713], bias : [1.732604]\n",
      "Epoch : 200, cost : 9667.2470703125, weight : [1.2856537], bias : [2.1063194]\n",
      "Epoch : 250, cost : 6591.51171875, weight : [1.615107], bias : [2.4375553]\n",
      "Epoch : 300, cost : 4433.86083984375, weight : [1.9015851], bias : [2.7264392]\n",
      "Epoch : 350, cost : 2972.860107421875, weight : [2.1461034], bias : [2.9740498]\n",
      "Epoch : 400, cost : 2020.0772705078125, weight : [2.3506799], bias : [3.182448]\n",
      "Epoch : 450, cost : 1422.7481689453125, weight : [2.5182645], bias : [3.354608]\n",
      "Epoch : 500, cost : 1063.2501220703125, weight : [2.6525667], bias : [3.4942377]\n",
      "Epoch : 550, cost : 855.76708984375, weight : [2.7577944], bias : [3.6055324]\n",
      "Epoch : 600, cost : 741.0092163085938, weight : [2.8383737], bias : [3.6928835]\n",
      "Epoch : 650, cost : 680.2080078125, weight : [2.8986669], bias : [3.7606108]\n",
      "Epoch : 700, cost : 649.3580932617188, weight : [2.94274], bias : [3.8127365]\n",
      "Epoch : 750, cost : 634.3688354492188, weight : [2.9742072], bias : [3.8528318]\n",
      "Epoch : 800, cost : 627.3927612304688, weight : [2.9961445], bias : [3.8839316]\n",
      "Epoch : 850, cost : 624.279296875, weight : [3.0110705], bias : [3.908521]\n",
      "Epoch : 900, cost : 622.9432373046875, weight : [3.0209718], bias : [3.928559]\n",
      "Epoch : 950, cost : 622.3865966796875, weight : [3.0273635], bias : [3.9455411]\n",
      "Epoch : 1000, cost : 622.15625, weight : [3.031367], bias : [3.9605708]\n"
     ]
    }
   ],
   "source": [
    "num_epochs = 1001\n",
    "for epoch in range(num_epochs):\n",
    "    _, c = sess.run([optimizer, cost], feed_dict={x:x_data, y:y_data})\n",
    "    if epoch % 50 == 0:\n",
    "        print(\"Epoch : {0}, cost : {1}, weight : {2}, bias : {3}\".format(epoch, c, sess.run(w), sess.run(b)))"
   ]
  },
  {
   "cell_type": "code",
   "execution_count": 13,
   "metadata": {},
   "outputs": [
    {
     "name": "stdout",
     "output_type": "stream",
     "text": [
      "최종 cost : 622.15625\n",
      "최종 weight : [3.031367]\n",
      "최종 bias : [3.9605708]\n"
     ]
    }
   ],
   "source": [
    "training_cost = sess.run(cost, feed_dict={x:x_data, y:y_data})\n",
    "print(\"최종 cost : {}\".format(c))\n",
    "print(\"최종 weight : {}\".format(sess.run(w)))\n",
    "print(\"최종 bias : {}\".format(sess.run(b)))"
   ]
  }
 ],
 "metadata": {
  "kernelspec": {
   "display_name": "Python 3",
   "language": "python",
   "name": "python3"
  },
  "language_info": {
   "codemirror_mode": {
    "name": "ipython",
    "version": 3
   },
   "file_extension": ".py",
   "mimetype": "text/x-python",
   "name": "python",
   "nbconvert_exporter": "python",
   "pygments_lexer": "ipython3",
   "version": "3.7.6"
  }
 },
 "nbformat": 4,
 "nbformat_minor": 4
}
